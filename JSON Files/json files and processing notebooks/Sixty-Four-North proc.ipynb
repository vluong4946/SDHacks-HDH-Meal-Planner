{
 "cells": [
  {
   "cell_type": "markdown",
   "metadata": {},
   "source": [
    "## Extracting all leaves from the JSON File"
   ]
  },
  {
   "cell_type": "code",
   "execution_count": 1,
   "metadata": {},
   "outputs": [],
   "source": [
    "import matplotlib\n",
    "import numpy as np\n",
    "import matplotlib.pyplot as plt\n",
    "import pandas as pd"
   ]
  },
  {
   "cell_type": "code",
   "execution_count": 2,
   "metadata": {},
   "outputs": [],
   "source": [
    "def sublist_check_from_left(sublist,lister):\n",
    "    if len(lister) < len(sublist):\n",
    "        return False\n",
    "    \n",
    "    check = True\n",
    "    for i in range(0,len(sublist)):\n",
    "        if sublist[i] != lister[i]:\n",
    "            check = False\n",
    "    return check"
   ]
  },
  {
   "cell_type": "code",
   "execution_count": 3,
   "metadata": {},
   "outputs": [
    {
     "name": "stdout",
     "output_type": "stream",
     "text": [
      "10000\n",
      "13068\n"
     ]
    }
   ],
   "source": [
    "import ijson\n",
    "\n",
    "leaf_set = set()\n",
    "prefix_set = set()\n",
    "name = \"Sixty-Four-North\"\n",
    "filename = name + \".json\"\n",
    "with open(filename, 'r') as f:\n",
    "    parser = ijson.parse(f)\n",
    "    count = 0\n",
    "    for prefix, event, value in parser:\n",
    "        prefix_set.add(prefix)\n",
    "        is_leaf = True\n",
    "        to_remove = []\n",
    "        count += 1\n",
    "        if count % 10000 == 0:\n",
    "            print(count)\n",
    "        for x in leaf_set:\n",
    "            if sublist_check_from_left(prefix.split('.'),x.split('.')):\n",
    "                is_leaf = False\n",
    "            if sublist_check_from_left(x.split('.'),prefix.split('.')):\n",
    "                to_remove.append(x)\n",
    "        if is_leaf:\n",
    "            leaf_set.add(prefix)\n",
    "        leaf_set.difference_update(to_remove)\n",
    "    print(count)"
   ]
  },
  {
   "cell_type": "markdown",
   "metadata": {},
   "source": [
    "## Extract all leaves with MenusVM and not DV"
   ]
  },
  {
   "cell_type": "code",
   "execution_count": 4,
   "metadata": {},
   "outputs": [
    {
     "name": "stdout",
     "output_type": "stream",
     "text": [
      "['MenusVm.menuDate', 'MenusVm.menuitems.item.nutrition']\n"
     ]
    }
   ],
   "source": [
    "leaves_list = list(leaf_set)\n",
    "menus_vm = [x for x in leaf_set if x.startswith(\"MenusVm\") and not x.endswith(\"DV\")]\n",
    "print(menus_vm)"
   ]
  },
  {
   "cell_type": "code",
   "execution_count": 5,
   "metadata": {},
   "outputs": [],
   "source": [
    "def removekey(d, key):\n",
    "    r = dict(d)\n",
    "    del r[key]\n",
    "    return r\n",
    "\n",
    "with open(filename, 'r') as f:\n",
    "    objects = ijson.items(f, 'MenusVm.menuitems.item')\n",
    "    columns_start = list(objects)\n",
    "    columns_wo_nutrition = [removekey(x,'nutrition') for x in columns_start]\n",
    "    nutrition_columns = [x.pop('nutrition') for x in columns_start]\n",
    "    all_columns_merged = [{**columns_wo_nutrition[i],**nutrition_columns[i]} for i in range(0,len(nutrition_columns))]\n",
    "    df = pd.DataFrame(all_columns_merged)\n",
    "    df = df.drop([x for x in list(df) if x.endswith(\"DV\")],axis=1)"
   ]
  },
  {
   "cell_type": "code",
   "execution_count": 6,
   "metadata": {},
   "outputs": [],
   "source": [
    "df['price'] = df['price'].map(lambda x: x.lstrip('$'))\n",
    "df[['price']] = df[['price']].apply(pd.to_numeric)\n",
    "df = df[df.price.notnull()]"
   ]
  },
  {
   "cell_type": "code",
   "execution_count": 7,
   "metadata": {},
   "outputs": [],
   "source": [
    "df.to_csv(name+\".csv\")"
   ]
  },
  {
   "cell_type": "code",
   "execution_count": null,
   "metadata": {},
   "outputs": [],
   "source": []
  },
  {
   "cell_type": "code",
   "execution_count": null,
   "metadata": {},
   "outputs": [],
   "source": []
  },
  {
   "cell_type": "code",
   "execution_count": null,
   "metadata": {},
   "outputs": [],
   "source": []
  }
 ],
 "metadata": {
  "kernelspec": {
   "display_name": "Python 3",
   "language": "python",
   "name": "python3"
  },
  "language_info": {
   "codemirror_mode": {
    "name": "ipython",
    "version": 3
   },
   "file_extension": ".py",
   "mimetype": "text/x-python",
   "name": "python",
   "nbconvert_exporter": "python",
   "pygments_lexer": "ipython3",
   "version": "3.6.4"
  }
 },
 "nbformat": 4,
 "nbformat_minor": 2
}
